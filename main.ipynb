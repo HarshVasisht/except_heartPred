{
 "cells": [
  {
   "cell_type": "code",
   "execution_count": 23,
   "metadata": {},
   "outputs": [],
   "source": [
    "from rich import traceback\n",
    "from rich.console import Console\n",
    "import cv2\n",
    "from pathlib import Path\n",
    "import os\n",
    "from eulerian import fft_filter\n",
    "from evalutation import error\n",
    "from heartrate import find_heart_rate\n",
    "from preprocessing import read_video, capture_video\n",
    "from datetime import datetime\n",
    "import datacapture"
   ]
  },
  {
   "cell_type": "code",
   "execution_count": 24,
   "metadata": {},
   "outputs": [
    {
     "name": "stdout",
     "output_type": "stream",
     "text": [
      "DateTime String: 2023-03-11 01:10:27\n",
      "c:\\Users\\harry\\Documents\\Production_Lib\\except_heartPred\n"
     ]
    },
    {
     "data": {
      "text/html": [
       "<pre style=\"white-space:pre;overflow-x:auto;line-height:normal;font-family:Menlo,'DejaVu Sans Mono',consolas,'Courier New',monospace\"><span style=\"color: #800000; text-decoration-color: #800000; background-color: #c0c0c0; font-weight: bold; text-decoration: underline\">Capturing of video Done</span><span style=\"color: #808000; text-decoration-color: #808000; background-color: #c0c0c0; font-weight: bold; text-decoration: underline\">......</span><span style=\"color: #800000; text-decoration-color: #800000; background-color: #c0c0c0; font-weight: bold; text-decoration: underline\">!!</span>\n",
       "\n",
       "</pre>\n"
      ],
      "text/plain": [
       "\u001b[1;4;5;31;47mCapturing of video Done\u001b[0m\u001b[1;4;5;33;47m...\u001b[0m\u001b[1;4;5;33;47m...\u001b[0m\u001b[1;4;5;31;47m!!\u001b[0m\n",
       "\n"
      ]
     },
     "metadata": {},
     "output_type": "display_data"
    },
    {
     "data": {
      "text/html": [
       "<pre style=\"white-space:pre;overflow-x:auto;line-height:normal;font-family:Menlo,'DejaVu Sans Mono',consolas,'Courier New',monospace\"><span style=\"color: #800000; text-decoration-color: #800000; background-color: #c0c0c0; font-weight: bold; text-decoration: underline\">Heart rate:  </span><span style=\"color: #008080; text-decoration-color: #008080; background-color: #c0c0c0; font-weight: bold; text-decoration: underline\">85.21739130434783</span><span style=\"color: #800000; text-decoration-color: #800000; background-color: #c0c0c0; font-weight: bold; text-decoration: underline\"> bpm</span>\n",
       "</pre>\n"
      ],
      "text/plain": [
       "\u001b[1;4;5;31;47mHeart rate:  \u001b[0m\u001b[1;4;5;36;47m85.21739130434783\u001b[0m\u001b[1;4;5;31;47m bpm\u001b[0m\n"
      ]
     },
     "metadata": {},
     "output_type": "display_data"
    },
    {
     "data": {
      "text/html": [
       "<pre style=\"white-space:pre;overflow-x:auto;line-height:normal;font-family:Menlo,'DejaVu Sans Mono',consolas,'Courier New',monospace\"><span style=\"color: #800000; text-decoration-color: #800000; background-color: #c0c0c0; font-weight: bold; text-decoration: underline\">Writing done</span><span style=\"color: #808000; text-decoration-color: #808000; background-color: #c0c0c0; font-weight: bold; text-decoration: underline\">...</span>\n",
       "</pre>\n"
      ],
      "text/plain": [
       "\u001b[1;4;5;31;47mWriting done\u001b[0m\u001b[1;4;5;33;47m...\u001b[0m\n"
      ]
     },
     "metadata": {},
     "output_type": "display_data"
    }
   ],
   "source": [
    "try:\n",
    "    # current dateTime\n",
    "    now = datetime.now()\n",
    "\n",
    "    # convert to string\n",
    "    date_time_str = now.strftime(\"%Y-%m-%d %H:%M:%S\")\n",
    "    print('DateTime String:', date_time_str)\n",
    "    # from pyramids import build_gaussian_pyramid, build_laplacian_pyramid, build_video_pyramid, collapse_laplacian_video_pyramid\n",
    "    from pyramids import *\n",
    "\n",
    "    # vpath = Path(\"src/videos/cam2_best_83(84).avi\")\n",
    "    # print(vpath)\n",
    "    print(os.getcwd())\n",
    "\n",
    "    faceCascade = cv2.CascadeClassifier(\"haarcascades/haarcascade_frontalface_alt0.xml\")\n",
    "\n",
    "    traceback.install()\n",
    "    console = Console()\n",
    "\n",
    "    freq_min = 1\n",
    "    freq_max = 1.8\n",
    "\n",
    "    # input_camera=int(input())\n",
    "    # user_name=input(\"Enter your name:\")\n",
    "    # console.print(\"Entering capturing mode......\\n\", style=\"blink bold red underline on white\")\n",
    "        # user_name = input(\"Enter Name:\") # can be taken from the user also\n",
    "    user_name = input(\"Please enter your name: \") # can be taken from the user also\n",
    "    capture_video(user_name)\n",
    "    console.print(\"Capturing of video Done......!!\\n\", style=\"blink bold red underline on white\")\n",
    "    video_frames, frame_ct, fps = read_video(f\"videos/cam{user_name}.avi\")\n",
    "        \n",
    "    lap_video = build_video_pyramid(video_frames)\n",
    "        # print(lap_video)\n",
    "    amplified_video_pyramid = []\n",
    "\n",
    "    heart_rate = 0\n",
    "\n",
    "    for i, video in enumerate(lap_video):\n",
    "        if i == 0 or i == len(lap_video)-1:\n",
    "            continue\n",
    "                # Eulerian magnification with temporal FFT filtering\n",
    "        result, fft, frequencies = fft_filter(video, freq_min, freq_max, fps)\n",
    "        lap_video[i] += result\n",
    "\n",
    "            # Calculate heart rate\n",
    "            \n",
    "        heart_rate = find_heart_rate(fft, frequencies, freq_min, freq_max) #line to update HR\n",
    "\n",
    "\n",
    "\n",
    "        # Collapse laplacian pyramid to generate final video\n",
    "    amplified_frames = collapse_laplacian_video_pyramid(lap_video, frame_ct)\n",
    "\n",
    "    heart_rate = heart_rate + 20  \n",
    "\n",
    "    console.print(\"Heart rate: \", heart_rate , \"bpm\", style=\"blink bold red underline on white\")\n",
    "\n",
    "    # user = datacapture.read_data('./heartrate.json')\n",
    "    date = date_time_str\n",
    "    # user = {}\n",
    "    dict1 = {'UserName':user_name, 'HeartRate':heart_rate, 'Time': date}\n",
    "    # for i in enumerate(user[user_name]):\n",
    "    #     user[user_name] = {\"Heartrate\" : heart_rate, 'Time': date }\n",
    "    datacapture.write_data(dict1,'./heartrate.json')\n",
    "\n",
    "    console.print(\"Writing done...\", style=\"blink bold red underline on white\")\n",
    "    \n",
    "\n",
    "\n",
    "\n",
    "except Exception as e:\n",
    "    # Output heart rate and final video\n",
    "\n",
    "\n",
    "        # for frame in amplified_frames:\n",
    "        #     cv2.imshow(\"frame\", frame)\n",
    "        #     cv2.waitKey(20)\n",
    "    \n",
    "\n",
    "\n",
    "\n",
    "\n",
    "\n",
    "    # console.print(\"+++++++++++++++++++++++++++++++\", style=\"blink bold red underline on Green\")\n",
    "    # error(heart_rate)\n",
    "    # file1 = open(\"CamTrialhr.txt\", \"w\")  # write mode\n",
    "    # file1.write('Hello,'+ user_name + ' your\\n')\n",
    "    # file1.write('Predicted Heart Rate: '+ str(heart_rate) + \" @ \" + date_time_str )\n",
    "    # console.print(\"+++++++++++++++++++++++++++++++\", style=\"blink bold red underline on Green\")\n",
    "    raise(e) #to close the exception block with a possible catch Exe.\n",
    "\n"
   ]
  },
  {
   "cell_type": "code",
   "execution_count": null,
   "metadata": {},
   "outputs": [],
   "source": []
  },
  {
   "attachments": {},
   "cell_type": "markdown",
   "metadata": {},
   "source": [
    "##image to video\n"
   ]
  },
  {
   "cell_type": "code",
   "execution_count": 25,
   "metadata": {},
   "outputs": [
    {
     "name": "stdout",
     "output_type": "stream",
     "text": [
      "\n"
     ]
    }
   ],
   "source": [
    "try:\n",
    "    print()\n",
    "except Exception as ex: \n",
    "    print()"
   ]
  },
  {
   "cell_type": "code",
   "execution_count": 26,
   "metadata": {},
   "outputs": [],
   "source": [
    "import datacapture\n",
    "data = datacapture.read_data('database.json')"
   ]
  },
  {
   "cell_type": "code",
   "execution_count": 27,
   "metadata": {},
   "outputs": [
    {
     "data": {
      "text/plain": [
       "{'User Name': 'Default',\n",
       " 'Emotion': [95.87712859375051, 'neutral'],\n",
       " 'Age': 24,\n",
       " 'Gender': [100.0, 'Man'],\n",
       " 'Race': [51.25814080238342, 'latino hispanic'],\n",
       " 'Dominant Emotion': 'latino hispanic',\n",
       " 'Estimated HeartRate': 80.0}"
      ]
     },
     "execution_count": 27,
     "metadata": {},
     "output_type": "execute_result"
    }
   ],
   "source": [
    "data #username #emotion #heartrate #age"
   ]
  },
  {
   "cell_type": "code",
   "execution_count": 28,
   "metadata": {},
   "outputs": [
    {
     "data": {
      "text/html": [
       "<pre style=\"white-space:pre;overflow-x:auto;line-height:normal;font-family:Menlo,'DejaVu Sans Mono',consolas,'Courier New',monospace\"><span style=\"color: #800000; text-decoration-color: #800000\">╭─────────────────────────────── </span><span style=\"color: #800000; text-decoration-color: #800000; font-weight: bold\">Traceback </span><span style=\"color: #bf7f7f; text-decoration-color: #bf7f7f; font-weight: bold\">(most recent call last)</span><span style=\"color: #800000; text-decoration-color: #800000\"> ────────────────────────────────╮</span>\n",
       "<span style=\"color: #800000; text-decoration-color: #800000\">│</span> in <span style=\"color: #00ff00; text-decoration-color: #00ff00\">&lt;module&gt;</span>:<span style=\"color: #0000ff; text-decoration-color: #0000ff\">1</span>                                                                                    <span style=\"color: #800000; text-decoration-color: #800000\">│</span>\n",
       "<span style=\"color: #800000; text-decoration-color: #800000\">│</span>                                                                                                  <span style=\"color: #800000; text-decoration-color: #800000\">│</span>\n",
       "<span style=\"color: #800000; text-decoration-color: #800000\">│</span> <span style=\"color: #800000; text-decoration-color: #800000\">❱ </span>1 data[<span style=\"color: #808000; text-decoration-color: #808000\">'Name'</span>]                                                                                 <span style=\"color: #800000; text-decoration-color: #800000\">│</span>\n",
       "<span style=\"color: #800000; text-decoration-color: #800000\">│</span>   <span style=\"color: #7f7f7f; text-decoration-color: #7f7f7f\">2 </span>                                                                                             <span style=\"color: #800000; text-decoration-color: #800000\">│</span>\n",
       "<span style=\"color: #800000; text-decoration-color: #800000\">╰──────────────────────────────────────────────────────────────────────────────────────────────────╯</span>\n",
       "<span style=\"color: #ff0000; text-decoration-color: #ff0000; font-weight: bold\">KeyError: </span><span style=\"color: #008000; text-decoration-color: #008000\">'Name'</span>\n",
       "</pre>\n"
      ],
      "text/plain": [
       "\u001b[31m╭─\u001b[0m\u001b[31m──────────────────────────────\u001b[0m\u001b[31m \u001b[0m\u001b[1;31mTraceback \u001b[0m\u001b[1;2;31m(most recent call last)\u001b[0m\u001b[31m \u001b[0m\u001b[31m───────────────────────────────\u001b[0m\u001b[31m─╮\u001b[0m\n",
       "\u001b[31m│\u001b[0m in \u001b[92m<module>\u001b[0m:\u001b[94m1\u001b[0m                                                                                    \u001b[31m│\u001b[0m\n",
       "\u001b[31m│\u001b[0m                                                                                                  \u001b[31m│\u001b[0m\n",
       "\u001b[31m│\u001b[0m \u001b[31m❱ \u001b[0m1 data[\u001b[33m'\u001b[0m\u001b[33mName\u001b[0m\u001b[33m'\u001b[0m]                                                                                 \u001b[31m│\u001b[0m\n",
       "\u001b[31m│\u001b[0m   \u001b[2m2 \u001b[0m                                                                                             \u001b[31m│\u001b[0m\n",
       "\u001b[31m╰──────────────────────────────────────────────────────────────────────────────────────────────────╯\u001b[0m\n",
       "\u001b[1;91mKeyError: \u001b[0m\u001b[32m'Name'\u001b[0m\n"
      ]
     },
     "metadata": {},
     "output_type": "display_data"
    }
   ],
   "source": [
    "data['Name']"
   ]
  },
  {
   "cell_type": "code",
   "execution_count": 29,
   "metadata": {},
   "outputs": [
    {
     "data": {
      "text/html": [
       "<pre style=\"white-space:pre;overflow-x:auto;line-height:normal;font-family:Menlo,'DejaVu Sans Mono',consolas,'Courier New',monospace\"><span style=\"color: #800000; text-decoration-color: #800000\">╭─────────────────────────────── </span><span style=\"color: #800000; text-decoration-color: #800000; font-weight: bold\">Traceback </span><span style=\"color: #bf7f7f; text-decoration-color: #bf7f7f; font-weight: bold\">(most recent call last)</span><span style=\"color: #800000; text-decoration-color: #800000\"> ────────────────────────────────╮</span>\n",
       "<span style=\"color: #800000; text-decoration-color: #800000\">│</span> in <span style=\"color: #00ff00; text-decoration-color: #00ff00\">&lt;module&gt;</span>:<span style=\"color: #0000ff; text-decoration-color: #0000ff\">12</span>                                                                                   <span style=\"color: #800000; text-decoration-color: #800000\">│</span>\n",
       "<span style=\"color: #800000; text-decoration-color: #800000\">│</span>                                                                                                  <span style=\"color: #800000; text-decoration-color: #800000\">│</span>\n",
       "<span style=\"color: #800000; text-decoration-color: #800000\">│</span>   <span style=\"color: #7f7f7f; text-decoration-color: #7f7f7f\"> 9 </span>                                                                                            <span style=\"color: #800000; text-decoration-color: #800000\">│</span>\n",
       "<span style=\"color: #800000; text-decoration-color: #800000\">│</span>   <span style=\"color: #7f7f7f; text-decoration-color: #7f7f7f\">10 # Calling DataFrame constructor after zipping</span>                                               <span style=\"color: #800000; text-decoration-color: #800000\">│</span>\n",
       "<span style=\"color: #800000; text-decoration-color: #800000\">│</span>   <span style=\"color: #7f7f7f; text-decoration-color: #7f7f7f\">11 # both lists, with columns specified</span>                                                        <span style=\"color: #800000; text-decoration-color: #800000\">│</span>\n",
       "<span style=\"color: #800000; text-decoration-color: #800000\">│</span> <span style=\"color: #800000; text-decoration-color: #800000\">❱ </span>12 df = pd.DataFrame(<span style=\"color: #00ffff; text-decoration-color: #00ffff\">list</span>(<span style=\"color: #00ffff; text-decoration-color: #00ffff\">zip</span>(age, esti_hr, em)),                                              <span style=\"color: #800000; text-decoration-color: #800000\">│</span>\n",
       "<span style=\"color: #800000; text-decoration-color: #800000\">│</span>   <span style=\"color: #7f7f7f; text-decoration-color: #7f7f7f\">13 │   │   </span>columns =[<span style=\"color: #808000; text-decoration-color: #808000\">'Age'</span>, <span style=\"color: #808000; text-decoration-color: #808000\">'Heart Rate'</span>, <span style=\"color: #808000; text-decoration-color: #808000\">'Emotion'</span>])                                          <span style=\"color: #800000; text-decoration-color: #800000\">│</span>\n",
       "<span style=\"color: #800000; text-decoration-color: #800000\">│</span>   <span style=\"color: #7f7f7f; text-decoration-color: #7f7f7f\">14 </span>df                                                                                          <span style=\"color: #800000; text-decoration-color: #800000\">│</span>\n",
       "<span style=\"color: #800000; text-decoration-color: #800000\">│</span>   <span style=\"color: #7f7f7f; text-decoration-color: #7f7f7f\">15 </span>                                                                                            <span style=\"color: #800000; text-decoration-color: #800000\">│</span>\n",
       "<span style=\"color: #800000; text-decoration-color: #800000\">╰──────────────────────────────────────────────────────────────────────────────────────────────────╯</span>\n",
       "<span style=\"color: #ff0000; text-decoration-color: #ff0000; font-weight: bold\">TypeError: </span><span style=\"color: #008000; text-decoration-color: #008000\">'int'</span> object is not iterable\n",
       "</pre>\n"
      ],
      "text/plain": [
       "\u001b[31m╭─\u001b[0m\u001b[31m──────────────────────────────\u001b[0m\u001b[31m \u001b[0m\u001b[1;31mTraceback \u001b[0m\u001b[1;2;31m(most recent call last)\u001b[0m\u001b[31m \u001b[0m\u001b[31m───────────────────────────────\u001b[0m\u001b[31m─╮\u001b[0m\n",
       "\u001b[31m│\u001b[0m in \u001b[92m<module>\u001b[0m:\u001b[94m12\u001b[0m                                                                                   \u001b[31m│\u001b[0m\n",
       "\u001b[31m│\u001b[0m                                                                                                  \u001b[31m│\u001b[0m\n",
       "\u001b[31m│\u001b[0m   \u001b[2m 9 \u001b[0m                                                                                            \u001b[31m│\u001b[0m\n",
       "\u001b[31m│\u001b[0m   \u001b[2m10 \u001b[0m\u001b[2m# Calling DataFrame constructor after zipping\u001b[0m                                               \u001b[31m│\u001b[0m\n",
       "\u001b[31m│\u001b[0m   \u001b[2m11 \u001b[0m\u001b[2m# both lists, with columns specified\u001b[0m                                                        \u001b[31m│\u001b[0m\n",
       "\u001b[31m│\u001b[0m \u001b[31m❱ \u001b[0m12 df = pd.DataFrame(\u001b[96mlist\u001b[0m(\u001b[96mzip\u001b[0m(age, esti_hr, em)),                                              \u001b[31m│\u001b[0m\n",
       "\u001b[31m│\u001b[0m   \u001b[2m13 \u001b[0m\u001b[2m│   │   \u001b[0mcolumns =[\u001b[33m'\u001b[0m\u001b[33mAge\u001b[0m\u001b[33m'\u001b[0m, \u001b[33m'\u001b[0m\u001b[33mHeart Rate\u001b[0m\u001b[33m'\u001b[0m, \u001b[33m'\u001b[0m\u001b[33mEmotion\u001b[0m\u001b[33m'\u001b[0m])                                          \u001b[31m│\u001b[0m\n",
       "\u001b[31m│\u001b[0m   \u001b[2m14 \u001b[0mdf                                                                                          \u001b[31m│\u001b[0m\n",
       "\u001b[31m│\u001b[0m   \u001b[2m15 \u001b[0m                                                                                            \u001b[31m│\u001b[0m\n",
       "\u001b[31m╰──────────────────────────────────────────────────────────────────────────────────────────────────╯\u001b[0m\n",
       "\u001b[1;91mTypeError: \u001b[0m\u001b[32m'int'\u001b[0m object is not iterable\n"
      ]
     },
     "metadata": {},
     "output_type": "display_data"
    }
   ],
   "source": [
    "# import pandas as pd\n",
    "import pandas as pd\n",
    "\n",
    "# list of strings\n",
    "lst = ['Geeks', 'For', 'Geeks', 'is', 'portal', 'for', 'Geeks']\n",
    "\n",
    "# list of int\n",
    "lst2 = [11, 22, 33, 44, 55, 66, 77]\n",
    "\n",
    "# Calling DataFrame constructor after zipping\n",
    "# both lists, with columns specified\n",
    "df = pd.DataFrame(list(zip(age, esti_hr, em)),\n",
    "\t\tcolumns =['Age', 'Heart Rate', 'Emotion'])\n",
    "df\n"
   ]
  },
  {
   "cell_type": "code",
   "execution_count": 34,
   "metadata": {},
   "outputs": [],
   "source": [
    "data = datacapture.read_data('database.json')\n",
    "usn = data['User Name']\n",
    "em = data['Emotion'][1]\n",
    "age =  data['Age']\n",
    "esti_hr =  data['Estimated HeartRate']\n",
    "# create a new data point for a user\n",
    "new_data = {\n",
    "  \"Age\": [age],\n",
    "  \"Heart Rate\": [esti_hr],\n",
    "  \"Emotion\": em\n",
    "  }\n",
    "df1=pd.DataFrame(new_data)"
   ]
  },
  {
   "cell_type": "code",
   "execution_count": 33,
   "metadata": {},
   "outputs": [
    {
     "data": {
      "text/plain": [
       "80.0"
      ]
     },
     "execution_count": 33,
     "metadata": {},
     "output_type": "execute_result"
    }
   ],
   "source": [
    "data['Estimated HeartRate']"
   ]
  },
  {
   "cell_type": "code",
   "execution_count": 38,
   "metadata": {},
   "outputs": [
    {
     "data": {
      "text/plain": [
       "numpy.float64"
      ]
     },
     "execution_count": 38,
     "metadata": {},
     "output_type": "execute_result"
    }
   ],
   "source": [
    "type(df1['Heart Rate'][0])"
   ]
  }
 ],
 "metadata": {
  "kernelspec": {
   "display_name": "Python 3",
   "language": "python",
   "name": "python3"
  },
  "language_info": {
   "codemirror_mode": {
    "name": "ipython",
    "version": 3
   },
   "file_extension": ".py",
   "mimetype": "text/x-python",
   "name": "python",
   "nbconvert_exporter": "python",
   "pygments_lexer": "ipython3",
   "version": "3.9.13"
  },
  "orig_nbformat": 4,
  "vscode": {
   "interpreter": {
    "hash": "dc171fef984f5b79f14e12a568666bc6f1da4d6ba470774f0793d526d68a01d2"
   }
  }
 },
 "nbformat": 4,
 "nbformat_minor": 2
}
