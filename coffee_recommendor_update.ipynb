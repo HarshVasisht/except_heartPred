{
 "cells": [
  {
   "cell_type": "code",
   "execution_count": 1,
   "metadata": {},
   "outputs": [],
   "source": [
    "# data = [\n",
    "#     [\"Age\", \"Heart Rate\", \"Emotion\", \"Coffee Recommendation\"],\n",
    "#     [21,70,\"Happy\",\"Cappuccino\"],\n",
    "#     [23,74,\"Happy\",\"Latte\"],\n",
    "#     [25,75,\"Happy\",\"Espresso\"],\n",
    "#     [28,69,\"Happy\",\"Americano\"],\n",
    "#     [31,73,\"Happy\",\"Latte\"],\n",
    "#     [33,77,\"Happy\",\"Cappuccino\"],\n",
    "#     [35,80,\"Happy\",\"Espresso\"],\n",
    "#     [38,84,\"Happy\",\"Americano\"],\n",
    "#     [41,88,\"Happy\",\"Latte\"],\n",
    "#     [44,92,\"Happy\",\"Cappuccino\"],\n",
    "#     [23,76,\"Happy\",\"Espresso\"],\n",
    "#     [26,80,\"Happy\",\"Americano\"],\n",
    "#     [29,83,\"Happy\",\"Latte\"],\n",
    "#     [32,87,\"Happy\",\"Cappuccino\"],\n",
    "#     [35,91,\"Happy\",\"Mocha\"],\n",
    "#     [38,94,\"Happy\",\"Espresso\"],\n",
    "#     [41,98,\"Happy\",\"Cappuccino\"],\n",
    "#     [44,102,\"Happy\",\"Americano\"],\n",
    "#     [47,106,\"Happy\",\"Mocha\"],\n",
    "#     [50,110,\"Happy\",\"Latte\"],\n",
    "#     [24,65,\"Sad\",\"Mocha\"],\n",
    "#     [26,69,\"Sad\",\"Hot Chocolate\"],\n",
    "#     [28,72,\"Sad\",\"Chai Tea\"],\n",
    "#     [31,76,\"Sad\",\"Motcha\" \"Latte\"],\n",
    "#     [33,80,\"Sad\",\"Americano\"],\n",
    "#     [35,84,\"Sad\",\"Espresso\"],\n",
    "#     [38,88,\"Sad\",\"Latte\"],\n",
    "#     [41,92,\"Sad\",\"Mocha\"],\n",
    "#     [43,95,\"Sad\",\"Americano\"],\n",
    "#     [46,99,\"Sad\",\"Espresso\"],\n",
    "#     [23,68,\"Sad\",\"Matcha\" \"Latte\"],\n",
    "#     [26,72,\"Sad\",\"Chai Tea\"],\n",
    "#     [29,76,\"Sad\",\"Mocha\"],\n",
    "#     [32,80,\"Sad\",\"Americano\"],\n",
    "#     [35,84,\"Sad\",\"Espresso\"],\n",
    "#     [38,88,\"Sad\",\"Latte\"],\n",
    "#     [41,92,\"Sad\",\"Mocha\"],\n",
    "#     [44,96,\"Sad\",\"Americano\"],\n",
    "#     [47,100,\"Sad\",\"Espresso\"],\n",
    "#     [50,104,\"Sad\",\"Latte\"],\n",
    "#     [22,73,\"Stressed\",\"Green Tea\"],\n",
    "#     [24,76,\"Stressed\",\"Chamomile Tea\"],\n",
    "#     [26,79,\"Stressed\",\"Herbal Tea\"],\n",
    "#     [29,82,\"Stressed\",\"Decaf Coffee\"],\n",
    "#     [21,70,\"Happy\",\"Cappuccino\"],\n",
    "#     [23,74,\"Happy\",\"Latte\"],\n",
    "#     [25,75,\"Happy\",\"Espresso\"],\n",
    "#     [28,69,\"Happy\",\"Americano\"],\n",
    "#     [31,73,\"Happy\",\"Latte\"],\n",
    "#     [33,77,\"Happy\",\"Cappuccino\"],\n",
    "#     [35,80,\"Happy\",\"Espresso\"],\n",
    "#     [38,84,\"Happy\",\"Americano\"],\n",
    "#     [41,88,\"Happy\",\"Latte\"],\n",
    "#     [44,92,\"Happy\",\"Cappuccino\"],\n",
    "#     [23,76,\"Happy\",\"Espresso\"],\n",
    "#     [26,80,\"Happy\",\"Americano\"],\n",
    "#     [29,83,\"Happy\",\"Latte\"],\n",
    "#     [32,87,\"Happy\",\"Cappuccino\"],\n",
    "#     [35,91,\"Happy\",\"Mocha\"],\n",
    "#     [38,94,\"Happy\",\"Espresso\"],\n",
    "#     [41,98,\"Happy\",\"Cappuccino\"],\n",
    "#     [44,102,\"Happy\",\"Americano\"],\n",
    "#     [47,106,\"Happy\",\"Mocha\"],\n",
    "#     [50,110,\"Happy\",\"Latte\"],\n",
    "#     [24,65,\"Sad\",\"Mocha\"],\n",
    "#     [26,69,\"Sad\",\"Hot Chocolate\"],\n",
    "#     [28,72,\"Sad\",\"Chai Tea\"],\n",
    "#     [31,76,\"Sad\",\"Motcha\" \"Latte\"],\n",
    "#     [33,80,\"Sad\",\"Americano\"],\n",
    "#     [35,84,\"Sad\",\"Espresso\"],\n",
    "#     [38,88,\"Sad\",\"Latte\"],\n",
    "#     [41,92,\"Sad\",\"Mocha\"],\n",
    "#     [43,95,\"Sad\",\"Americano\"],\n",
    "#     [46,99,\"Sad\",\"Espresso\"],\n",
    "#     [23,68,\"Sad\",\"Matcha\" \"Latte\"],\n",
    "#     [26,72,\"Sad\",\"Chai Tea\"],\n",
    "#     [29,76,\"Sad\",\"Mocha\"],\n",
    "#     [32,80,\"Sad\",\"Americano\"],\n",
    "#     [35,84,\"Sad\",\"Espresso\"],\n",
    "#     [38,88,\"Sad\",\"Latte\"],\n",
    "#     [41,92,\"Sad\",\"Mocha\"],\n",
    "#     [44,96,\"Sad\",\"Americano\"],\n",
    "#     [47,100,\"Sad\",\"Espresso\"],\n",
    "#     [50,104,\"Sad\",\"Latte\"],\n",
    "#     [22,73,\"Stressed\",\"Green Tea\"],\n",
    "#     [24,76,\"Stressed\",\"Chamomile Tea\"],\n",
    "#     [26,79,\"Stressed\",\"Herbal Tea\"],\n",
    "#     [29,82,\"Stressed\",\"Decaf Coffee\"],\n",
    "#     [31,85,\"Stressed\",\"Latte\"],\n",
    "#     [34,88,\"Stressed\",\"Espresso\"],\n",
    "#     [36,91,\"Stressed\",\"Green Tea\"],\n",
    "#     [39,94,\"Stressed\",\"Chamomile Tea\"],\n",
    "#     [42,97,\"Stressed\",\"Herbal Tea\"],\n",
    "#     [44,100,\"Stressed\",\"Decaf Coffee\"],\n",
    "#     [22,76,\"Stressed\",\"Green Tea\"],\n",
    "#     [26,82,\"Stressed\",\"Herbal Tea\"],\n",
    "#     [24,79,\"Stressed\",\"Chamomile Tea\"],\n",
    "#     [26,82,\"Stressed\",\"Herbal Tea\"],\n",
    "#     [29,85,\"Stressed\",\"Decaf Coffee\"],\n",
    "#     [31,88,\"Stressed\",\"Latte\"],\n",
    "#     [34,91,\"Stressed\",\"Espresso\"],\n",
    "#     [36,94,\"Stressed\",\"Green Tea\"],\n",
    "#     [39,97,\"Stressed\",\"Chamomile Tea\"],\n",
    "#     [42,100,\"Stressed\",\"Herbal Tea\"],\n",
    "#     [44,103,\"Stressed\",\"Decaf Coffee\"],\n",
    "#     [23,71,\"Stressed\",\"Green Tea\"],\n",
    "#     [25,74,\"Stressed\",\"Chamomile Tea\"],\n",
    "#     [27,77,\"Stressed\",\"Herbal Tea\"],\n",
    "#     [30,80,\"Stressed\",\"Decaf Coffee\"],\n",
    "#     [32,83,\"Stressed\",\"Latte\"],\n",
    "#     [35,86,\"Stressed\",\"Espresso\"],\n",
    "#     [37,89,\"Stressed\",\"Green Tea\"],\n",
    "#     [40,92,\"Stressed\",\"Chamomile Tea\"],\n",
    "#     [43,95,\"Stressed\",\"Herbal Tea\"],\n",
    "#     [45,98,\"Stressed\",\"Decaf Coffee\"],\n",
    "#     [21,69,\"Sad\",\"Chai Tea\"],\n",
    "#     [23,72,\"Sad\",\"Matcha\" \"Latte\"],\n",
    "#     [25,75,\"Sad\",\"Mocha\"],\n",
    "#     [28,78,\"Sad\",\"Americano\"],\n",
    "#     [31,81,\"Sad\",\"Espresso\"]\n",
    "\n",
    "# ]"
   ]
  },
  {
   "cell_type": "code",
   "execution_count": 2,
   "metadata": {},
   "outputs": [],
   "source": [
    "# # write the data to a CSV file\n",
    "# with open(\"coffee_data.csv\", mode=\"w\", newline=\"\") as file:\n",
    "#     writer = csv.writer(file)\n",
    "#     writer.writerows(data)"
   ]
  },
  {
   "cell_type": "code",
   "execution_count": 3,
   "metadata": {},
   "outputs": [],
   "source": [
    "import joblib\n",
    "import numpy as np\n",
    "import pandas as pd"
   ]
  },
  {
   "attachments": {},
   "cell_type": "markdown",
   "metadata": {},
   "source": [
    "## Train--02"
   ]
  },
  {
   "attachments": {},
   "cell_type": "markdown",
   "metadata": {},
   "source": [
    "### Trying new Approach\n"
   ]
  },
  {
   "cell_type": "code",
   "execution_count": 1,
   "metadata": {},
   "outputs": [
    {
     "name": "stdout",
     "output_type": "stream",
     "text": [
      "Requirement already satisfied: scikit-learn in c:\\users\\harry\\anaconda3\\lib\\site-packages (1.0.2)\n",
      "Requirement already satisfied: threadpoolctl>=2.0.0 in c:\\users\\harry\\anaconda3\\lib\\site-packages (from scikit-learn) (2.2.0)\n",
      "Requirement already satisfied: scipy>=1.1.0 in c:\\users\\harry\\anaconda3\\lib\\site-packages (from scikit-learn) (1.9.1)\n",
      "Requirement already satisfied: numpy>=1.14.6 in c:\\users\\harry\\anaconda3\\lib\\site-packages (from scikit-learn) (1.21.5)\n",
      "Requirement already satisfied: joblib>=0.11 in c:\\users\\harry\\anaconda3\\lib\\site-packages (from scikit-learn) (1.1.0)\n"
     ]
    }
   ],
   "source": [
    "!pip install scikit-learn"
   ]
  },
  {
   "cell_type": "code",
   "execution_count": 1,
   "metadata": {},
   "outputs": [],
   "source": [
    "import pandas as pd\n",
    "from sklearn.ensemble import RandomForestClassifier\n",
    "from sklearn.model_selection import train_test_split, GridSearchCV\n",
    "from sklearn.pipeline import Pipeline\n",
    "from sklearn.preprocessing import StandardScaler, OneHotEncoder\n",
    "from sklearn.compose import ColumnTransformer\n",
    "\n",
    "# Load the coffee data from the CSV file\n",
    "coffee_data = pd.read_csv('coffee_data.csv')\n",
    "\n",
    "# Split the data into features (X) and labels (y)\n",
    "X = coffee_data.iloc[:, :-1]\n",
    "y = coffee_data.iloc[:, -1]\n",
    "\n",
    "# Split the data into training and testing setse\n",
    "X_train, X_test, y_train, y_test = train_test_split(X, y, test_size=0.25, random_state=42)\n",
    "\n",
    "# Create a pipeline object\n",
    "numeric_features = ['Age', 'Heart Rate']\n",
    "numeric_transformer = Pipeline(steps=[('scaler', StandardScaler())])\n",
    "\n",
    "categorical_features = ['Emotion']\n",
    "categorical_transformer = OneHotEncoder()\n",
    "\n",
    "preprocessor = ColumnTransformer(\n",
    "    transformers=[\n",
    "        ('num', numeric_transformer, numeric_features),\n",
    "        ('cat', categorical_transformer, categorical_features)])\n",
    "\n",
    "pipeline = Pipeline(steps=[('preprocessor', preprocessor),\n",
    "                           ('classifier', RandomForestClassifier(random_state=42))])\n",
    "\n",
    "# Set up a dictionary of hyperparameters to search over\n",
    "params = {\n",
    "    'classifier__n_estimators': [50, 100, 150],\n",
    "    'classifier__max_depth': [None, 5, 10, 15],\n",
    "    'classifier__min_samples_split': [2, 5, 10],\n",
    "    'classifier__min_samples_leaf': [1, 2, 4]\n",
    "}\n",
    "\n"
   ]
  },
  {
   "cell_type": "code",
   "execution_count": 2,
   "metadata": {},
   "outputs": [
    {
     "data": {
      "text/html": [
       "<div>\n",
       "<style scoped>\n",
       "    .dataframe tbody tr th:only-of-type {\n",
       "        vertical-align: middle;\n",
       "    }\n",
       "\n",
       "    .dataframe tbody tr th {\n",
       "        vertical-align: top;\n",
       "    }\n",
       "\n",
       "    .dataframe thead th {\n",
       "        text-align: right;\n",
       "    }\n",
       "</style>\n",
       "<table border=\"1\" class=\"dataframe\">\n",
       "  <thead>\n",
       "    <tr style=\"text-align: right;\">\n",
       "      <th></th>\n",
       "      <th>Age</th>\n",
       "      <th>Heart Rate</th>\n",
       "      <th>Emotion</th>\n",
       "    </tr>\n",
       "  </thead>\n",
       "  <tbody>\n",
       "    <tr>\n",
       "      <th>0</th>\n",
       "      <td>21</td>\n",
       "      <td>70</td>\n",
       "      <td>Happy</td>\n",
       "    </tr>\n",
       "    <tr>\n",
       "      <th>1</th>\n",
       "      <td>23</td>\n",
       "      <td>74</td>\n",
       "      <td>Happy</td>\n",
       "    </tr>\n",
       "    <tr>\n",
       "      <th>2</th>\n",
       "      <td>25</td>\n",
       "      <td>75</td>\n",
       "      <td>Happy</td>\n",
       "    </tr>\n",
       "    <tr>\n",
       "      <th>3</th>\n",
       "      <td>28</td>\n",
       "      <td>69</td>\n",
       "      <td>Happy</td>\n",
       "    </tr>\n",
       "    <tr>\n",
       "      <th>4</th>\n",
       "      <td>31</td>\n",
       "      <td>73</td>\n",
       "      <td>Happy</td>\n",
       "    </tr>\n",
       "    <tr>\n",
       "      <th>...</th>\n",
       "      <td>...</td>\n",
       "      <td>...</td>\n",
       "      <td>...</td>\n",
       "    </tr>\n",
       "    <tr>\n",
       "      <th>115</th>\n",
       "      <td>21</td>\n",
       "      <td>69</td>\n",
       "      <td>Sad</td>\n",
       "    </tr>\n",
       "    <tr>\n",
       "      <th>116</th>\n",
       "      <td>23</td>\n",
       "      <td>72</td>\n",
       "      <td>Sad</td>\n",
       "    </tr>\n",
       "    <tr>\n",
       "      <th>117</th>\n",
       "      <td>25</td>\n",
       "      <td>75</td>\n",
       "      <td>Sad</td>\n",
       "    </tr>\n",
       "    <tr>\n",
       "      <th>118</th>\n",
       "      <td>28</td>\n",
       "      <td>78</td>\n",
       "      <td>Sad</td>\n",
       "    </tr>\n",
       "    <tr>\n",
       "      <th>119</th>\n",
       "      <td>31</td>\n",
       "      <td>81</td>\n",
       "      <td>Sad</td>\n",
       "    </tr>\n",
       "  </tbody>\n",
       "</table>\n",
       "<p>120 rows × 3 columns</p>\n",
       "</div>"
      ],
      "text/plain": [
       "     Age  Heart Rate Emotion\n",
       "0     21          70   Happy\n",
       "1     23          74   Happy\n",
       "2     25          75   Happy\n",
       "3     28          69   Happy\n",
       "4     31          73   Happy\n",
       "..   ...         ...     ...\n",
       "115   21          69     Sad\n",
       "116   23          72     Sad\n",
       "117   25          75     Sad\n",
       "118   28          78     Sad\n",
       "119   31          81     Sad\n",
       "\n",
       "[120 rows x 3 columns]"
      ]
     },
     "execution_count": 2,
     "metadata": {},
     "output_type": "execute_result"
    }
   ],
   "source": [
    "X"
   ]
  },
  {
   "cell_type": "code",
   "execution_count": 3,
   "metadata": {},
   "outputs": [
    {
     "data": {
      "text/html": [
       "<div>\n",
       "<style scoped>\n",
       "    .dataframe tbody tr th:only-of-type {\n",
       "        vertical-align: middle;\n",
       "    }\n",
       "\n",
       "    .dataframe tbody tr th {\n",
       "        vertical-align: top;\n",
       "    }\n",
       "\n",
       "    .dataframe thead th {\n",
       "        text-align: right;\n",
       "    }\n",
       "</style>\n",
       "<table border=\"1\" class=\"dataframe\">\n",
       "  <thead>\n",
       "    <tr style=\"text-align: right;\">\n",
       "      <th></th>\n",
       "      <th>Age</th>\n",
       "      <th>Heart Rate</th>\n",
       "      <th>Emotion</th>\n",
       "    </tr>\n",
       "  </thead>\n",
       "  <tbody>\n",
       "    <tr>\n",
       "      <th>44</th>\n",
       "      <td>21</td>\n",
       "      <td>70</td>\n",
       "      <td>Happy</td>\n",
       "    </tr>\n",
       "    <tr>\n",
       "      <th>47</th>\n",
       "      <td>28</td>\n",
       "      <td>69</td>\n",
       "      <td>Happy</td>\n",
       "    </tr>\n",
       "    <tr>\n",
       "      <th>4</th>\n",
       "      <td>31</td>\n",
       "      <td>73</td>\n",
       "      <td>Happy</td>\n",
       "    </tr>\n",
       "    <tr>\n",
       "      <th>55</th>\n",
       "      <td>26</td>\n",
       "      <td>80</td>\n",
       "      <td>Happy</td>\n",
       "    </tr>\n",
       "    <tr>\n",
       "      <th>26</th>\n",
       "      <td>38</td>\n",
       "      <td>88</td>\n",
       "      <td>Sad</td>\n",
       "    </tr>\n",
       "  </tbody>\n",
       "</table>\n",
       "</div>"
      ],
      "text/plain": [
       "    Age  Heart Rate Emotion\n",
       "44   21          70   Happy\n",
       "47   28          69   Happy\n",
       "4    31          73   Happy\n",
       "55   26          80   Happy\n",
       "26   38          88     Sad"
      ]
     },
     "execution_count": 3,
     "metadata": {},
     "output_type": "execute_result"
    }
   ],
   "source": [
    "X_test.head()"
   ]
  },
  {
   "cell_type": "code",
   "execution_count": 4,
   "metadata": {},
   "outputs": [],
   "source": [
    "# Use GridSearchCV to find the best combination of hyperparameters\n",
    "grid_search = GridSearchCV(pipeline, params, cv=5)"
   ]
  },
  {
   "cell_type": "code",
   "execution_count": 5,
   "metadata": {},
   "outputs": [
    {
     "data": {
      "text/plain": [
       "Pipeline(steps=[('preprocessor',\n",
       "                 ColumnTransformer(transformers=[('num',\n",
       "                                                  Pipeline(steps=[('scaler',\n",
       "                                                                   StandardScaler())]),\n",
       "                                                  ['Age', 'Heart Rate']),\n",
       "                                                 ('cat', OneHotEncoder(),\n",
       "                                                  ['Emotion'])])),\n",
       "                ('classifier', RandomForestClassifier(random_state=42))])"
      ]
     },
     "execution_count": 5,
     "metadata": {},
     "output_type": "execute_result"
    }
   ],
   "source": [
    "grid_search.estimator"
   ]
  },
  {
   "cell_type": "code",
   "execution_count": 6,
   "metadata": {},
   "outputs": [
    {
     "name": "stderr",
     "output_type": "stream",
     "text": [
      "c:\\Users\\harry\\anaconda3\\lib\\site-packages\\sklearn\\model_selection\\_split.py:676: UserWarning: The least populated class in y has only 1 members, which is less than n_splits=5.\n",
      "  warnings.warn(\n"
     ]
    },
    {
     "data": {
      "text/plain": [
       "GridSearchCV(cv=5,\n",
       "             estimator=Pipeline(steps=[('preprocessor',\n",
       "                                        ColumnTransformer(transformers=[('num',\n",
       "                                                                         Pipeline(steps=[('scaler',\n",
       "                                                                                          StandardScaler())]),\n",
       "                                                                         ['Age',\n",
       "                                                                          'Heart '\n",
       "                                                                          'Rate']),\n",
       "                                                                        ('cat',\n",
       "                                                                         OneHotEncoder(),\n",
       "                                                                         ['Emotion'])])),\n",
       "                                       ('classifier',\n",
       "                                        RandomForestClassifier(random_state=42))]),\n",
       "             param_grid={'classifier__max_depth': [None, 5, 10, 15],\n",
       "                         'classifier__min_samples_leaf': [1, 2, 4],\n",
       "                         'classifier__min_samples_split': [2, 5, 10],\n",
       "                         'classifier__n_estimators': [50, 100, 150]})"
      ]
     },
     "execution_count": 6,
     "metadata": {},
     "output_type": "execute_result"
    }
   ],
   "source": [
    "grid_search.fit(X_train, y_train)\n"
   ]
  },
  {
   "cell_type": "code",
   "execution_count": 7,
   "metadata": {},
   "outputs": [
    {
     "data": {
      "text/html": [
       "<div>\n",
       "<style scoped>\n",
       "    .dataframe tbody tr th:only-of-type {\n",
       "        vertical-align: middle;\n",
       "    }\n",
       "\n",
       "    .dataframe tbody tr th {\n",
       "        vertical-align: top;\n",
       "    }\n",
       "\n",
       "    .dataframe thead th {\n",
       "        text-align: right;\n",
       "    }\n",
       "</style>\n",
       "<table border=\"1\" class=\"dataframe\">\n",
       "  <thead>\n",
       "    <tr style=\"text-align: right;\">\n",
       "      <th></th>\n",
       "      <th>Age</th>\n",
       "      <th>Heart Rate</th>\n",
       "      <th>Emotion</th>\n",
       "    </tr>\n",
       "  </thead>\n",
       "  <tbody>\n",
       "    <tr>\n",
       "      <th>44</th>\n",
       "      <td>21</td>\n",
       "      <td>70</td>\n",
       "      <td>Happy</td>\n",
       "    </tr>\n",
       "    <tr>\n",
       "      <th>47</th>\n",
       "      <td>28</td>\n",
       "      <td>69</td>\n",
       "      <td>Happy</td>\n",
       "    </tr>\n",
       "    <tr>\n",
       "      <th>4</th>\n",
       "      <td>31</td>\n",
       "      <td>73</td>\n",
       "      <td>Happy</td>\n",
       "    </tr>\n",
       "    <tr>\n",
       "      <th>55</th>\n",
       "      <td>26</td>\n",
       "      <td>80</td>\n",
       "      <td>Happy</td>\n",
       "    </tr>\n",
       "    <tr>\n",
       "      <th>26</th>\n",
       "      <td>38</td>\n",
       "      <td>88</td>\n",
       "      <td>Sad</td>\n",
       "    </tr>\n",
       "  </tbody>\n",
       "</table>\n",
       "</div>"
      ],
      "text/plain": [
       "    Age  Heart Rate Emotion\n",
       "44   21          70   Happy\n",
       "47   28          69   Happy\n",
       "4    31          73   Happy\n",
       "55   26          80   Happy\n",
       "26   38          88     Sad"
      ]
     },
     "execution_count": 7,
     "metadata": {},
     "output_type": "execute_result"
    }
   ],
   "source": [
    "X_test.head()"
   ]
  },
  {
   "cell_type": "code",
   "execution_count": 8,
   "metadata": {},
   "outputs": [
    {
     "name": "stdout",
     "output_type": "stream",
     "text": [
      "Accuracy: 0.6666666666666666\n",
      "Recommended Coffee: ['Cappuccino']\n"
     ]
    }
   ],
   "source": [
    "# Evaluate the model on the testing set\n",
    "accuracy = grid_search.score(X_test, y_test)\n",
    "\n",
    "# Print the accuracy of the model\n",
    "print(\"Accuracy:\", accuracy)\n",
    "\n",
    "# Make a prediction for a new user\n",
    "# create a new data point for a user\n",
    "new_data = {\n",
    "  \"Age\": [20],\n",
    "  \"Heart Rate\": [89],\n",
    "  \"Emotion\": \"Happy\"\n",
    "  }\n",
    "new_user=pd.DataFrame(new_data)\n",
    "\n",
    "# new_user = [[2, 25, 70, 1, 0, 1, 1, 0, 0, 0, 0, 1, 0]]\n",
    "predicted_coffee = grid_search.predict(new_user)\n",
    "\n",
    "# Print the recommended coffee based on the new user's mood\n",
    "print(\"Recommended Coffee:\", predicted_coffee)"
   ]
  },
  {
   "attachments": {},
   "cell_type": "markdown",
   "metadata": {},
   "source": [
    "### Getting the best gridseach params"
   ]
  },
  {
   "cell_type": "code",
   "execution_count": 9,
   "metadata": {},
   "outputs": [
    {
     "data": {
      "text/plain": [
       "{'classifier__n_estimators': [50, 100, 150],\n",
       " 'classifier__max_depth': [None, 5, 10, 15],\n",
       " 'classifier__min_samples_split': [2, 5, 10],\n",
       " 'classifier__min_samples_leaf': [1, 2, 4]}"
      ]
     },
     "execution_count": 9,
     "metadata": {},
     "output_type": "execute_result"
    }
   ],
   "source": [
    "grid_search.param_grid"
   ]
  },
  {
   "cell_type": "code",
   "execution_count": 12,
   "metadata": {},
   "outputs": [
    {
     "data": {
      "text/plain": [
       "['grid_search_pipeline.pkl']"
      ]
     },
     "execution_count": 12,
     "metadata": {},
     "output_type": "execute_result"
    }
   ],
   "source": [
    "import joblib\n",
    "joblib.dump(grid_search, 'grid_search_pipeline.pkl')\n"
   ]
  },
  {
   "cell_type": "code",
   "execution_count": 14,
   "metadata": {},
   "outputs": [],
   "source": [
    "# pipeline1=joblib.load('pipeline.pkl')\n",
    "grid_search_pred=joblib.load('grid_search_pipeline.pkl')"
   ]
  },
  {
   "cell_type": "code",
   "execution_count": 15,
   "metadata": {},
   "outputs": [],
   "source": [
    "y_test1 =grid_search_pred.predict(new_user)"
   ]
  },
  {
   "cell_type": "code",
   "execution_count": 16,
   "metadata": {},
   "outputs": [
    {
     "data": {
      "text/plain": [
       "array(['Cappuccino'], dtype=object)"
      ]
     },
     "execution_count": 16,
     "metadata": {},
     "output_type": "execute_result"
    }
   ],
   "source": [
    "y_test1"
   ]
  },
  {
   "cell_type": "code",
   "execution_count": null,
   "metadata": {},
   "outputs": [],
   "source": []
  }
 ],
 "metadata": {
  "kernelspec": {
   "display_name": "base",
   "language": "python",
   "name": "python3"
  },
  "language_info": {
   "codemirror_mode": {
    "name": "ipython",
    "version": 3
   },
   "file_extension": ".py",
   "mimetype": "text/x-python",
   "name": "python",
   "nbconvert_exporter": "python",
   "pygments_lexer": "ipython3",
   "version": "3.9.13"
  },
  "orig_nbformat": 4,
  "vscode": {
   "interpreter": {
    "hash": "49cb93f377a7abe7414b7b0f21fb3017538004a126cf690fb524202736b7fb92"
   }
  }
 },
 "nbformat": 4,
 "nbformat_minor": 2
}
