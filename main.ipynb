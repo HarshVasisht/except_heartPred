{
 "cells": [
  {
   "cell_type": "code",
   "execution_count": 1,
   "metadata": {},
   "outputs": [],
   "source": [
    "from rich import traceback\n",
    "from rich.console import Console\n",
    "import cv2\n",
    "from pathlib import Path\n",
    "import os\n",
    "from eulerian import fft_filter\n",
    "from evalutation import error\n",
    "from heartrate import find_heart_rate\n",
    "from preprocessing import read_video, capture_video\n",
    "from datetime import datetime\n",
    "import datacapture"
   ]
  },
  {
   "cell_type": "code",
   "execution_count": 5,
   "metadata": {},
   "outputs": [
    {
     "name": "stdout",
     "output_type": "stream",
     "text": [
      "DateTime String: 2023-02-25 12:44:29\n",
      "c:\\Users\\harry\\OneDrive\\Documents\\Production_Lib\\except_heartPred\n"
     ]
    },
    {
     "data": {
      "text/html": [
       "<pre style=\"white-space:pre;overflow-x:auto;line-height:normal;font-family:Menlo,'DejaVu Sans Mono',consolas,'Courier New',monospace\"><span style=\"color: #800000; text-decoration-color: #800000; background-color: #c0c0c0; font-weight: bold; text-decoration: underline\">Capturing of video Done</span><span style=\"color: #808000; text-decoration-color: #808000; background-color: #c0c0c0; font-weight: bold; text-decoration: underline\">......</span><span style=\"color: #800000; text-decoration-color: #800000; background-color: #c0c0c0; font-weight: bold; text-decoration: underline\">!!</span>\n",
       "\n",
       "</pre>\n"
      ],
      "text/plain": [
       "\u001b[1;4;5;31;47mCapturing of video Done\u001b[0m\u001b[1;4;5;33;47m...\u001b[0m\u001b[1;4;5;33;47m...\u001b[0m\u001b[1;4;5;31;47m!!\u001b[0m\n",
       "\n"
      ]
     },
     "metadata": {},
     "output_type": "display_data"
    },
    {
     "data": {
      "text/html": [
       "<pre style=\"white-space:pre;overflow-x:auto;line-height:normal;font-family:Menlo,'DejaVu Sans Mono',consolas,'Courier New',monospace\"><span style=\"color: #800000; text-decoration-color: #800000; background-color: #c0c0c0; font-weight: bold; text-decoration: underline\">Heart rate:  </span><span style=\"color: #008080; text-decoration-color: #008080; background-color: #c0c0c0; font-weight: bold; text-decoration: underline\">106.53846153846152</span><span style=\"color: #800000; text-decoration-color: #800000; background-color: #c0c0c0; font-weight: bold; text-decoration: underline\"> bpm</span>\n",
       "</pre>\n"
      ],
      "text/plain": [
       "\u001b[1;4;5;31;47mHeart rate:  \u001b[0m\u001b[1;4;5;36;47m106.53846153846152\u001b[0m\u001b[1;4;5;31;47m bpm\u001b[0m\n"
      ]
     },
     "metadata": {},
     "output_type": "display_data"
    },
    {
     "data": {
      "text/html": [
       "<pre style=\"white-space:pre;overflow-x:auto;line-height:normal;font-family:Menlo,'DejaVu Sans Mono',consolas,'Courier New',monospace\"><span style=\"color: #800000; text-decoration-color: #800000; background-color: #c0c0c0; font-weight: bold; text-decoration: underline\">Writing done</span><span style=\"color: #808000; text-decoration-color: #808000; background-color: #c0c0c0; font-weight: bold; text-decoration: underline\">...</span>\n",
       "</pre>\n"
      ],
      "text/plain": [
       "\u001b[1;4;5;31;47mWriting done\u001b[0m\u001b[1;4;5;33;47m...\u001b[0m\n"
      ]
     },
     "metadata": {},
     "output_type": "display_data"
    }
   ],
   "source": [
    "try:\n",
    "    # current dateTime\n",
    "    now = datetime.now()\n",
    "\n",
    "    # convert to string\n",
    "    date_time_str = now.strftime(\"%Y-%m-%d %H:%M:%S\")\n",
    "    print('DateTime String:', date_time_str)\n",
    "    # from pyramids import build_gaussian_pyramid, build_laplacian_pyramid, build_video_pyramid, collapse_laplacian_video_pyramid\n",
    "    from pyramids import *\n",
    "\n",
    "    # vpath = Path(\"src/videos/cam2_best_83(84).avi\")\n",
    "    # print(vpath)\n",
    "    print(os.getcwd())\n",
    "\n",
    "    faceCascade = cv2.CascadeClassifier(\"haarcascades/haarcascade_frontalface_alt0.xml\")\n",
    "\n",
    "    traceback.install()\n",
    "    console = Console()\n",
    "\n",
    "    freq_min = 1\n",
    "    freq_max = 1.8\n",
    "\n",
    "    # input_camera=int(input())\n",
    "    # user_name=input(\"Enter your name:\")\n",
    "    # console.print(\"Entering capturing mode......\\n\", style=\"blink bold red underline on white\")\n",
    "        # user_name = input(\"Enter Name:\") # can be taken from the user also\n",
    "    user_name = input(\"Please enter your name: \") # can be taken from the user also\n",
    "    capture_video(user_name)\n",
    "    console.print(\"Capturing of video Done......!!\\n\", style=\"blink bold red underline on white\")\n",
    "    video_frames, frame_ct, fps = read_video(f\"videos/cam{user_name}.avi\")\n",
    "        \n",
    "    lap_video = build_video_pyramid(video_frames)\n",
    "        # print(lap_video)\n",
    "    amplified_video_pyramid = []\n",
    "\n",
    "    heart_rate = 0\n",
    "\n",
    "    for i, video in enumerate(lap_video):\n",
    "        if i == 0 or i == len(lap_video)-1:\n",
    "            continue\n",
    "                # Eulerian magnification with temporal FFT filtering\n",
    "        result, fft, frequencies = fft_filter(video, freq_min, freq_max, fps)\n",
    "        lap_video[i] += result\n",
    "\n",
    "            # Calculate heart rate\n",
    "            \n",
    "        heart_rate = find_heart_rate(fft, frequencies, freq_min, freq_max) #line to update HR\n",
    "\n",
    "\n",
    "\n",
    "        # Collapse laplacian pyramid to generate final video\n",
    "    amplified_frames = collapse_laplacian_video_pyramid(lap_video, frame_ct)\n",
    "\n",
    "    heart_rate = heart_rate + 20  \n",
    "\n",
    "    console.print(\"Heart rate: \", heart_rate , \"bpm\", style=\"blink bold red underline on white\")\n",
    "\n",
    "    # user = datacapture.read_data('./heartrate.json')\n",
    "    date = date_time_str\n",
    "    # user = {}\n",
    "    dict1 = {'UserName':user_name, 'HeartRate':heart_rate, 'Time': date}\n",
    "    # for i in enumerate(user[user_name]):\n",
    "    #     user[user_name] = {\"Heartrate\" : heart_rate, 'Time': date }\n",
    "    datacapture.write_data(dict1,'./heartrate.json')\n",
    "\n",
    "    console.print(\"Writing done...\", style=\"blink bold red underline on white\")\n",
    "    \n",
    "\n",
    "\n",
    "\n",
    "except Exception as e:\n",
    "    # Output heart rate and final video\n",
    "\n",
    "\n",
    "        # for frame in amplified_frames:\n",
    "        #     cv2.imshow(\"frame\", frame)\n",
    "        #     cv2.waitKey(20)\n",
    "    \n",
    "\n",
    "\n",
    "\n",
    "\n",
    "\n",
    "    # console.print(\"+++++++++++++++++++++++++++++++\", style=\"blink bold red underline on Green\")\n",
    "    # error(heart_rate)\n",
    "    # file1 = open(\"CamTrialhr.txt\", \"w\")  # write mode\n",
    "    # file1.write('Hello,'+ user_name + ' your\\n')\n",
    "    # file1.write('Predicted Heart Rate: '+ str(heart_rate) + \" @ \" + date_time_str )\n",
    "    # console.print(\"+++++++++++++++++++++++++++++++\", style=\"blink bold red underline on Green\")\n",
    "    raise(e) #to close the exception block with a possible catch Exe.\n",
    "\n"
   ]
  },
  {
   "cell_type": "code",
   "execution_count": null,
   "metadata": {},
   "outputs": [],
   "source": []
  },
  {
   "attachments": {},
   "cell_type": "markdown",
   "metadata": {},
   "source": [
    "##image to video\n"
   ]
  },
  {
   "cell_type": "code",
   "execution_count": null,
   "metadata": {},
   "outputs": [],
   "source": [
    "try:\n",
    "    print()\n",
    "except Exception as ex: \n",
    "    print()"
   ]
  }
 ],
 "metadata": {
  "kernelspec": {
   "display_name": "Python 3",
   "language": "python",
   "name": "python3"
  },
  "language_info": {
   "codemirror_mode": {
    "name": "ipython",
    "version": 3
   },
   "file_extension": ".py",
   "mimetype": "text/x-python",
   "name": "python",
   "nbconvert_exporter": "python",
   "pygments_lexer": "ipython3",
   "version": "3.7.7"
  },
  "orig_nbformat": 4,
  "vscode": {
   "interpreter": {
    "hash": "dc171fef984f5b79f14e12a568666bc6f1da4d6ba470774f0793d526d68a01d2"
   }
  }
 },
 "nbformat": 4,
 "nbformat_minor": 2
}
